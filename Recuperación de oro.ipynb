{
 "cells": [
  {
   "cell_type": "markdown",
   "metadata": {},
   "source": [
    "# Introducción"
   ]
  },
  {
   "cell_type": "markdown",
   "metadata": {},
   "source": [
    "<font color=green>\n",
    "Este proyecto consta de preparar un prototipo de un modelo de machine learning para Zyfra. La empresa desarrolla soluciones de eficiencia para la industria pesada.\n",
    "    \n",
    "    \n",
    "El modelo debe predecir la cantidad de oro extraído del mineral de oro. Dispones de los datos de extracción y purificación.\n",
    "</font>"
   ]
  },
  {
   "cell_type": "markdown",
   "metadata": {},
   "source": [
    "# Objetivo"
   ]
  },
  {
   "cell_type": "markdown",
   "metadata": {},
   "source": [
    "<font color=green>\n",
    "    \n",
    "1. Analizar y preparar los datos;\n",
    "    \n",
    "2. Realizar el análisis de datos;\n",
    "\n",
    "3. desarrollar un modelo y entrenarlo    \n",
    "    \n",
    "</font>"
   ]
  },
  {
   "cell_type": "markdown",
   "metadata": {},
   "source": [
    "# Librerías y Datos"
   ]
  },
  {
   "cell_type": "markdown",
   "metadata": {},
   "source": [
    "# Librerías"
   ]
  },
  {
   "cell_type": "code",
   "execution_count": 1,
   "metadata": {},
   "outputs": [],
   "source": [
    "import pandas as pd\n",
    "import numpy as np\n",
    "import matplotlib.pyplot as plt\n",
    "import math\n",
    "\n",
    "from numpy.random import RandomState\n",
    "\n",
    "from sklearn.dummy import DummyRegressor\n",
    "\n",
    "from sklearn.metrics import accuracy_score\n",
    "from sklearn.metrics import recall_score\n",
    "from sklearn.metrics import roc_auc_score\n",
    "from sklearn.metrics import roc_curve\n",
    "from sklearn.metrics import mean_squared_error\n",
    "from sklearn.metrics import mean_absolute_error\n",
    "from sklearn.metrics import f1_score\n",
    "from sklearn.metrics import make_scorer\n",
    "\n",
    "from sklearn.multioutput import MultiOutputRegressor\n",
    "\n",
    "from sklearn.model_selection import cross_val_score, cross_validate, train_test_split\n",
    "\n",
    "from sklearn.linear_model import Ridge\n",
    "from sklearn.tree import DecisionTreeClassifier\n",
    "from sklearn.tree import DecisionTreeRegressor\n",
    "from sklearn.ensemble import RandomForestRegressor\n",
    "from sklearn.linear_model import LinearRegression\n",
    "from sklearn.model_selection import GridSearchCV"
   ]
  },
  {
   "cell_type": "markdown",
   "metadata": {},
   "source": [
    "# Datos"
   ]
  },
  {
   "cell_type": "code",
   "execution_count": 2,
   "metadata": {},
   "outputs": [],
   "source": [
    "try:\n",
    "    data_train = pd.read_csv('gold_recovery_train.csv')\n",
    "except:\n",
    "    data_train = pd.read_csv('/datasets/gold_recovery_train.csv')\n",
    "try:\n",
    "    data_test = pd.read_csv('gold_recovery_test.csv')\n",
    "except:\n",
    "    data_test = pd.read_csv('/datasets/gold_recovery_test.csv')\n",
    "try:\n",
    "    data_full = pd.read_csv('gold_recovery_full.csv')\n",
    "except:\n",
    "    data_full = pd.read_csv('/datasets/gold_recovery_full.csv')"
   ]
  },
  {
   "cell_type": "markdown",
   "metadata": {},
   "source": [
    "# Exploración de Datos"
   ]
  },
  {
   "cell_type": "code",
   "execution_count": 3,
   "metadata": {},
   "outputs": [
    {
     "data": {
      "text/plain": [
       "(22716, 87)"
      ]
     },
     "execution_count": 3,
     "metadata": {},
     "output_type": "execute_result"
    }
   ],
   "source": [
    "data_full.shape"
   ]
  },
  {
   "cell_type": "code",
   "execution_count": 4,
   "metadata": {},
   "outputs": [
    {
     "data": {
      "text/plain": [
       "(16860, 87)"
      ]
     },
     "execution_count": 4,
     "metadata": {},
     "output_type": "execute_result"
    }
   ],
   "source": [
    "data_train.shape"
   ]
  },
  {
   "cell_type": "code",
   "execution_count": 5,
   "metadata": {},
   "outputs": [
    {
     "data": {
      "text/plain": [
       "(5856, 53)"
      ]
     },
     "execution_count": 5,
     "metadata": {},
     "output_type": "execute_result"
    }
   ],
   "source": [
    "data_test.shape"
   ]
  },
  {
   "cell_type": "markdown",
   "metadata": {},
   "source": [
    "<font color=green>\n",
    "Observamos que el DataFrame full, tiene 87 columnas, al igual que DataFrame de entrenamiento. Pero el DataFrame de testeo tiene menos columnas.   \n",
    "</font>"
   ]
  },
  {
   "cell_type": "code",
   "execution_count": 6,
   "metadata": {},
   "outputs": [
    {
     "name": "stdout",
     "output_type": "stream",
     "text": [
      "Columnas que quedaron fuera del DataFrame de prueba:\n",
      "\n",
      "final.output.tail_pb\n",
      "primary_cleaner.output.tail_au\n",
      "rougher.output.tail_ag\n",
      "secondary_cleaner.output.tail_au\n",
      "final.output.concentrate_pb\n",
      "primary_cleaner.output.tail_sol\n",
      "rougher.calculation.floatbank10_sulfate_to_au_feed\n",
      "final.output.concentrate_ag\n",
      "secondary_cleaner.output.tail_ag\n",
      "secondary_cleaner.output.tail_pb\n",
      "primary_cleaner.output.concentrate_pb\n",
      "primary_cleaner.output.tail_ag\n",
      "primary_cleaner.output.concentrate_ag\n",
      "rougher.output.tail_pb\n",
      "primary_cleaner.output.concentrate_sol\n",
      "rougher.output.concentrate_ag\n",
      "primary_cleaner.output.concentrate_au\n",
      "rougher.calculation.au_pb_ratio\n",
      "rougher.output.concentrate_sol\n",
      "final.output.concentrate_au\n",
      "final.output.recovery\n",
      "rougher.calculation.sulfate_to_au_concentrate\n",
      "rougher.calculation.floatbank11_sulfate_to_au_feed\n",
      "secondary_cleaner.output.tail_sol\n",
      "final.output.concentrate_sol\n",
      "primary_cleaner.output.tail_pb\n",
      "final.output.tail_sol\n",
      "rougher.output.tail_sol\n",
      "rougher.output.tail_au\n",
      "rougher.output.recovery\n",
      "rougher.output.concentrate_pb\n",
      "rougher.output.concentrate_au\n",
      "final.output.tail_ag\n",
      "final.output.tail_au\n"
     ]
    }
   ],
   "source": [
    "#Veamos qué columnas quedaron afuera del DF test\n",
    "\n",
    "missing_columns = set(data_full.columns) - set(data_test.columns) #Obtenemos las columnas que faltan en el DataFrame de prueba\n",
    "\n",
    "#Imprimimos las columnas que quedaron afuera\n",
    "print('Columnas que quedaron fuera del DataFrame de prueba:')\n",
    "print()\n",
    "for columns in missing_columns:\n",
    "    print(columns)\n"
   ]
  },
  {
   "cell_type": "markdown",
   "metadata": {},
   "source": [
    "<font color=green>\n",
    "    \n",
    "Podemos observar que las columnas faltantes en el DataFrame de prueba, son las columnas de `output` que nuestros modelos deben predecir. \n",
    "\n",
    "Para testear nuestros modelos podremos econtrar estos objetivos en el DataFrame `data_full`. \n",
    "\n",
    "Primero debemos comprobar que el cálculo de la recuperación de la característica `rouger.output.recovery`en nuestro DataFrame de entrenamiento se ha hecho correctamente. Comprobaremos el resultado de los cálculos y la característica según la métrica EAM.\n",
    "    \n",
    "</font>"
   ]
  },
  {
   "cell_type": "markdown",
   "metadata": {},
   "source": [
    "### rouger.output.recovery\n"
   ]
  },
  {
   "cell_type": "code",
   "execution_count": 7,
   "metadata": {},
   "outputs": [
    {
     "name": "stdout",
     "output_type": "stream",
     "text": [
      "Valor del EAM entre nuestro cálculo y los resultados: 9.303415616264301e-15\n"
     ]
    }
   ],
   "source": [
    "# Numerador para nuestros cálculos\n",
    "num = data_train['rougher.output.concentrate_au']*(data_train['rougher.input.feed_au'] - data_train['rougher.output.tail_au'])\n",
    "\n",
    "#Denominador para nuestros cálculos\n",
    "dem = data_train['rougher.input.feed_au']*(data_train['rougher.output.concentrate_au'] - data_train['rougher.output.tail_au'])\n",
    "\n",
    "#Calculemos el EAM entre nuestro cálculo y los resultados\n",
    "print('Valor del EAM entre nuestro cálculo y los resultados:', (data_train['rougher.output.recovery'] - num/dem*100).abs().mean())"
   ]
  },
  {
   "cell_type": "markdown",
   "metadata": {},
   "source": [
    "<font color=green>\n",
    "    \n",
    "Teniendo un EAM bastante bajo, podremos estar seguros que los datos y los resultado se encuentran correcto. La pequeña diferencia con 0, podrían deberse a algunos datos faltantes o vacíos.    \n",
    "\n",
    "Como se mencionó al momento de recibir los datos; algunos parámetros no están disponibles porque fueron medidos o calculados mucho más tarde. Por eso, algunas de las características que están presentes en el conjunto de entrenamiento pueden estar ausentes en el conjunto de prueba. El conjunto de prueba tampoco contiene objetivos.\n",
    "    \n",
    "</font>"
   ]
  },
  {
   "cell_type": "markdown",
   "metadata": {},
   "source": [
    "## Preprocesamiento de datos"
   ]
  },
  {
   "cell_type": "markdown",
   "metadata": {},
   "source": [
    "<font color=green>\n",
    "    \n",
    "Si bien, como observamos anteriormente, el DataFrame completo cuenta con una totalidad de 87 columnas. Veremos la cantidad de datos que tiene cada una de ellas. \n",
    "\n",
    "Respecto al DataFrame de entrenamiento y prueba, los llenaremos posteriormente\n",
    "\n",
    "</font>"
   ]
  },
  {
   "cell_type": "code",
   "execution_count": 8,
   "metadata": {},
   "outputs": [
    {
     "name": "stdout",
     "output_type": "stream",
     "text": [
      "<class 'pandas.core.frame.DataFrame'>\n",
      "RangeIndex: 22716 entries, 0 to 22715\n",
      "Data columns (total 87 columns):\n",
      " #   Column                                              Non-Null Count  Dtype  \n",
      "---  ------                                              --------------  -----  \n",
      " 0   date                                                22716 non-null  object \n",
      " 1   final.output.concentrate_ag                         22627 non-null  float64\n",
      " 2   final.output.concentrate_pb                         22629 non-null  float64\n",
      " 3   final.output.concentrate_sol                        22331 non-null  float64\n",
      " 4   final.output.concentrate_au                         22630 non-null  float64\n",
      " 5   final.output.recovery                               20753 non-null  float64\n",
      " 6   final.output.tail_ag                                22633 non-null  float64\n",
      " 7   final.output.tail_pb                                22516 non-null  float64\n",
      " 8   final.output.tail_sol                               22445 non-null  float64\n",
      " 9   final.output.tail_au                                22635 non-null  float64\n",
      " 10  primary_cleaner.input.sulfate                       21107 non-null  float64\n",
      " 11  primary_cleaner.input.depressant                    21170 non-null  float64\n",
      " 12  primary_cleaner.input.feed_size                     22716 non-null  float64\n",
      " 13  primary_cleaner.input.xanthate                      21565 non-null  float64\n",
      " 14  primary_cleaner.output.concentrate_ag               22618 non-null  float64\n",
      " 15  primary_cleaner.output.concentrate_pb               22268 non-null  float64\n",
      " 16  primary_cleaner.output.concentrate_sol              21918 non-null  float64\n",
      " 17  primary_cleaner.output.concentrate_au               22618 non-null  float64\n",
      " 18  primary_cleaner.output.tail_ag                      22614 non-null  float64\n",
      " 19  primary_cleaner.output.tail_pb                      22594 non-null  float64\n",
      " 20  primary_cleaner.output.tail_sol                     22365 non-null  float64\n",
      " 21  primary_cleaner.output.tail_au                      22617 non-null  float64\n",
      " 22  primary_cleaner.state.floatbank8_a_air              22660 non-null  float64\n",
      " 23  primary_cleaner.state.floatbank8_a_level            22667 non-null  float64\n",
      " 24  primary_cleaner.state.floatbank8_b_air              22660 non-null  float64\n",
      " 25  primary_cleaner.state.floatbank8_b_level            22673 non-null  float64\n",
      " 26  primary_cleaner.state.floatbank8_c_air              22662 non-null  float64\n",
      " 27  primary_cleaner.state.floatbank8_c_level            22673 non-null  float64\n",
      " 28  primary_cleaner.state.floatbank8_d_air              22661 non-null  float64\n",
      " 29  primary_cleaner.state.floatbank8_d_level            22673 non-null  float64\n",
      " 30  rougher.calculation.sulfate_to_au_concentrate       22672 non-null  float64\n",
      " 31  rougher.calculation.floatbank10_sulfate_to_au_feed  22672 non-null  float64\n",
      " 32  rougher.calculation.floatbank11_sulfate_to_au_feed  22672 non-null  float64\n",
      " 33  rougher.calculation.au_pb_ratio                     21089 non-null  float64\n",
      " 34  rougher.input.feed_ag                               22618 non-null  float64\n",
      " 35  rougher.input.feed_pb                               22472 non-null  float64\n",
      " 36  rougher.input.feed_rate                             22163 non-null  float64\n",
      " 37  rougher.input.feed_size                             22277 non-null  float64\n",
      " 38  rougher.input.feed_sol                              22357 non-null  float64\n",
      " 39  rougher.input.feed_au                               22617 non-null  float64\n",
      " 40  rougher.input.floatbank10_sulfate                   21415 non-null  float64\n",
      " 41  rougher.input.floatbank10_xanthate                  22247 non-null  float64\n",
      " 42  rougher.input.floatbank11_sulfate                   22038 non-null  float64\n",
      " 43  rougher.input.floatbank11_xanthate                  20459 non-null  float64\n",
      " 44  rougher.output.concentrate_ag                       22618 non-null  float64\n",
      " 45  rougher.output.concentrate_pb                       22618 non-null  float64\n",
      " 46  rougher.output.concentrate_sol                      22526 non-null  float64\n",
      " 47  rougher.output.concentrate_au                       22618 non-null  float64\n",
      " 48  rougher.output.recovery                             19597 non-null  float64\n",
      " 49  rougher.output.tail_ag                              19979 non-null  float64\n",
      " 50  rougher.output.tail_pb                              22618 non-null  float64\n",
      " 51  rougher.output.tail_sol                             19980 non-null  float64\n",
      " 52  rougher.output.tail_au                              19980 non-null  float64\n",
      " 53  rougher.state.floatbank10_a_air                     22646 non-null  float64\n",
      " 54  rougher.state.floatbank10_a_level                   22647 non-null  float64\n",
      " 55  rougher.state.floatbank10_b_air                     22646 non-null  float64\n",
      " 56  rougher.state.floatbank10_b_level                   22647 non-null  float64\n",
      " 57  rougher.state.floatbank10_c_air                     22646 non-null  float64\n",
      " 58  rougher.state.floatbank10_c_level                   22654 non-null  float64\n",
      " 59  rougher.state.floatbank10_d_air                     22641 non-null  float64\n",
      " 60  rougher.state.floatbank10_d_level                   22649 non-null  float64\n",
      " 61  rougher.state.floatbank10_e_air                     22096 non-null  float64\n",
      " 62  rougher.state.floatbank10_e_level                   22649 non-null  float64\n",
      " 63  rougher.state.floatbank10_f_air                     22641 non-null  float64\n",
      " 64  rougher.state.floatbank10_f_level                   22642 non-null  float64\n",
      " 65  secondary_cleaner.output.tail_ag                    22616 non-null  float64\n",
      " 66  secondary_cleaner.output.tail_pb                    22600 non-null  float64\n",
      " 67  secondary_cleaner.output.tail_sol                   20501 non-null  float64\n",
      " 68  secondary_cleaner.output.tail_au                    22618 non-null  float64\n",
      " 69  secondary_cleaner.state.floatbank2_a_air            22333 non-null  float64\n",
      " 70  secondary_cleaner.state.floatbank2_a_level          22591 non-null  float64\n",
      " 71  secondary_cleaner.state.floatbank2_b_air            22538 non-null  float64\n",
      " 72  secondary_cleaner.state.floatbank2_b_level          22588 non-null  float64\n",
      " 73  secondary_cleaner.state.floatbank3_a_air            22585 non-null  float64\n",
      " 74  secondary_cleaner.state.floatbank3_a_level          22587 non-null  float64\n",
      " 75  secondary_cleaner.state.floatbank3_b_air            22592 non-null  float64\n",
      " 76  secondary_cleaner.state.floatbank3_b_level          22590 non-null  float64\n",
      " 77  secondary_cleaner.state.floatbank4_a_air            22571 non-null  float64\n",
      " 78  secondary_cleaner.state.floatbank4_a_level          22587 non-null  float64\n",
      " 79  secondary_cleaner.state.floatbank4_b_air            22608 non-null  float64\n",
      " 80  secondary_cleaner.state.floatbank4_b_level          22607 non-null  float64\n",
      " 81  secondary_cleaner.state.floatbank5_a_air            22615 non-null  float64\n",
      " 82  secondary_cleaner.state.floatbank5_a_level          22615 non-null  float64\n",
      " 83  secondary_cleaner.state.floatbank5_b_air            22615 non-null  float64\n",
      " 84  secondary_cleaner.state.floatbank5_b_level          22616 non-null  float64\n",
      " 85  secondary_cleaner.state.floatbank6_a_air            22597 non-null  float64\n",
      " 86  secondary_cleaner.state.floatbank6_a_level          22615 non-null  float64\n",
      "dtypes: float64(86), object(1)\n",
      "memory usage: 15.1+ MB\n"
     ]
    }
   ],
   "source": [
    "data_full.info()"
   ]
  },
  {
   "cell_type": "markdown",
   "metadata": {},
   "source": [
    "<font color=green>\n",
    "    \n",
    "Podemos observar que existen solamente 2 columnas con los datos completos; las cuales son `date` y `primary_cleaner.input.feed_size`. Veamos más en detalle la distribución de datos de esta última columna.\n",
    "</font>"
   ]
  },
  {
   "cell_type": "code",
   "execution_count": 9,
   "metadata": {
    "scrolled": true
   },
   "outputs": [
    {
     "name": "stdout",
     "output_type": "stream",
     "text": [
      "date                                          0.000000\n",
      "final.output.concentrate_ag                   0.391794\n",
      "final.output.concentrate_pb                   0.382990\n",
      "final.output.concentrate_sol                  1.694841\n",
      "final.output.concentrate_au                   0.378588\n",
      "                                                ...   \n",
      "secondary_cleaner.state.floatbank5_a_level    0.444621\n",
      "secondary_cleaner.state.floatbank5_b_air      0.444621\n",
      "secondary_cleaner.state.floatbank5_b_level    0.440218\n",
      "secondary_cleaner.state.floatbank6_a_air      0.523860\n",
      "secondary_cleaner.state.floatbank6_a_level    0.444621\n",
      "Length: 87, dtype: float64\n"
     ]
    }
   ],
   "source": [
    "all_columns_full = len(data_full)\n",
    "percentage_missing = (data_full.isnull().sum() / all_columns_full)*100\n",
    "print(percentage_missing)"
   ]
  },
  {
   "cell_type": "code",
   "execution_count": 10,
   "metadata": {
    "scrolled": true
   },
   "outputs": [
    {
     "name": "stdout",
     "output_type": "stream",
     "text": [
      "date                                          0.000000\n",
      "final.output.concentrate_ag                   0.316957\n",
      "final.output.concentrate_pb                   0.316957\n",
      "final.output.concentrate_sol                  1.628808\n",
      "final.output.concentrate_au                   0.312555\n",
      "                                                ...   \n",
      "secondary_cleaner.state.floatbank5_a_level    0.374186\n",
      "secondary_cleaner.state.floatbank5_b_air      0.374186\n",
      "secondary_cleaner.state.floatbank5_b_level    0.369783\n",
      "secondary_cleaner.state.floatbank6_a_air      0.453425\n",
      "secondary_cleaner.state.floatbank6_a_level    0.374186\n",
      "Length: 87, dtype: float64\n"
     ]
    }
   ],
   "source": [
    "all_columns_train = len(data_train)\n",
    "percentage_missing_train = (data_train.isnull().sum() / all_columns_full)*100\n",
    "print(percentage_missing_train)"
   ]
  },
  {
   "cell_type": "code",
   "execution_count": 11,
   "metadata": {
    "scrolled": true
   },
   "outputs": [
    {
     "name": "stdout",
     "output_type": "stream",
     "text": [
      "date                                          0.000000\n",
      "primary_cleaner.input.sulfate                 1.329459\n",
      "primary_cleaner.input.depressant              1.250220\n",
      "primary_cleaner.input.feed_size               0.000000\n",
      "primary_cleaner.input.xanthate                0.730762\n",
      "primary_cleaner.state.floatbank8_a_air        0.070435\n",
      "primary_cleaner.state.floatbank8_a_level      0.070435\n",
      "primary_cleaner.state.floatbank8_b_air        0.070435\n",
      "primary_cleaner.state.floatbank8_b_level      0.070435\n",
      "primary_cleaner.state.floatbank8_c_air        0.070435\n",
      "primary_cleaner.state.floatbank8_c_level      0.070435\n",
      "primary_cleaner.state.floatbank8_d_air        0.070435\n",
      "primary_cleaner.state.floatbank8_d_level      0.070435\n",
      "rougher.input.feed_ag                         0.070435\n",
      "rougher.input.feed_pb                         0.070435\n",
      "rougher.input.feed_rate                       0.176087\n",
      "rougher.input.feed_size                       0.096848\n",
      "rougher.input.feed_sol                        0.294946\n",
      "rougher.input.feed_au                         0.070435\n",
      "rougher.input.floatbank10_sulfate             1.131361\n",
      "rougher.input.floatbank10_xanthate            0.541469\n",
      "rougher.input.floatbank11_sulfate             0.242120\n",
      "rougher.input.floatbank11_xanthate            1.553971\n",
      "rougher.state.floatbank10_a_air               0.074837\n",
      "rougher.state.floatbank10_a_level             0.070435\n",
      "rougher.state.floatbank10_b_air               0.074837\n",
      "rougher.state.floatbank10_b_level             0.070435\n",
      "rougher.state.floatbank10_c_air               0.074837\n",
      "rougher.state.floatbank10_c_level             0.070435\n",
      "rougher.state.floatbank10_d_air               0.074837\n",
      "rougher.state.floatbank10_d_level             0.070435\n",
      "rougher.state.floatbank10_e_air               0.074837\n",
      "rougher.state.floatbank10_e_level             0.070435\n",
      "rougher.state.floatbank10_f_air               0.074837\n",
      "rougher.state.floatbank10_f_level             0.070435\n",
      "secondary_cleaner.state.floatbank2_a_air      0.088044\n",
      "secondary_cleaner.state.floatbank2_a_level    0.070435\n",
      "secondary_cleaner.state.floatbank2_b_air      0.101250\n",
      "secondary_cleaner.state.floatbank2_b_level    0.070435\n",
      "secondary_cleaner.state.floatbank3_a_air      0.149674\n",
      "secondary_cleaner.state.floatbank3_a_level    0.070435\n",
      "secondary_cleaner.state.floatbank3_b_air      0.070435\n",
      "secondary_cleaner.state.floatbank3_b_level    0.070435\n",
      "secondary_cleaner.state.floatbank4_a_air      0.070435\n",
      "secondary_cleaner.state.floatbank4_a_level    0.070435\n",
      "secondary_cleaner.state.floatbank4_b_air      0.070435\n",
      "secondary_cleaner.state.floatbank4_b_level    0.070435\n",
      "secondary_cleaner.state.floatbank5_a_air      0.070435\n",
      "secondary_cleaner.state.floatbank5_a_level    0.070435\n",
      "secondary_cleaner.state.floatbank5_b_air      0.070435\n",
      "secondary_cleaner.state.floatbank5_b_level    0.070435\n",
      "secondary_cleaner.state.floatbank6_a_air      0.070435\n",
      "secondary_cleaner.state.floatbank6_a_level    0.070435\n",
      "dtype: float64\n"
     ]
    }
   ],
   "source": [
    "all_columns_test = len(data_test)\n",
    "percentage_missing_test = (data_test.isnull().sum() / all_columns_full)*100\n",
    "print(percentage_missing_test)"
   ]
  },
  {
   "cell_type": "code",
   "execution_count": 12,
   "metadata": {},
   "outputs": [
    {
     "data": {
      "text/plain": [
       "count    22716.000000\n",
       "mean         7.288872\n",
       "std          0.617357\n",
       "min          1.080000\n",
       "25%          6.920000\n",
       "50%          7.280000\n",
       "75%          7.680000\n",
       "max         15.500000\n",
       "Name: primary_cleaner.input.feed_size, dtype: float64"
      ]
     },
     "execution_count": 12,
     "metadata": {},
     "output_type": "execute_result"
    }
   ],
   "source": [
    "data_full['primary_cleaner.input.feed_size'].describe()"
   ]
  },
  {
   "cell_type": "markdown",
   "metadata": {},
   "source": [
    "<font color=green>\n",
    "Al ver el detalle, vemos que los valores de la media y mediana son casi iguales para esta columna. Y parecen estar bien equilibrados.    \n",
    "    \n",
    "</font>"
   ]
  },
  {
   "cell_type": "markdown",
   "metadata": {},
   "source": [
    "### Columnas de `output`"
   ]
  },
  {
   "cell_type": "markdown",
   "metadata": {},
   "source": [
    "<font color=green>\n",
    "    \n",
    "Para asegurarnos, veremos las columnas de `output` con unos boxplot, ya que serán de gran importancia para crear nuestros modelos.    \n",
    "</font>"
   ]
  },
  {
   "cell_type": "code",
   "execution_count": 13,
   "metadata": {},
   "outputs": [
    {
     "data": {
      "image/png": "[encoded data removed]",
      "text/plain": [
       "<Figure size 1440x1080 with 1 Axes>"
      ]
     },
     "metadata": {
      "needs_background": "light"
     },
     "output_type": "display_data"
    }
   ],
   "source": [
    "data_full.boxplot(['rougher.output.concentrate_au'\n",
    "                  , 'rougher.output.concentrate_pb'\n",
    "                  , 'rougher.output.concentrate_ag'\n",
    "                  , 'primary_cleaner.output.concentrate_au'\n",
    "                  , 'primary_cleaner.output.concentrate_pb'\n",
    "                  , 'primary_cleaner.output.concentrate_ag'\n",
    "                  , 'final.output.concentrate_au'\n",
    "                  , 'final.output.concentrate_pb'\n",
    "                  , 'final.output.concentrate_ag'], figsize=(20,15), vert=False)\n",
    "\n",
    "plt.xticks(np.arange(0, 55, 2.0))\n",
    "\n",
    "#Promedio de rougher del oro en color rojo\n",
    "plt.vlines(data_full['rougher.output.concentrate_au'].mean(), ymin=0.5, ymax=3.5, colors='red')\n",
    "\n",
    "#Promedio de la purificación primario del oro en color naranja\n",
    "plt.vlines(data_full['primary_cleaner.output.concentrate_au'].mean(), ymin=3.5, ymax=6.5, colors='orange')\n",
    "\n",
    "#Promedio de la purificación secundaria del oro en color verde\n",
    "plt.vlines(data_full['final.output.concentrate_au'].mean(), ymin=6.5, ymax=9.5, colors='green')\n",
    "\n",
    "plt.show()\n"
   ]
  },
  {
   "cell_type": "markdown",
   "metadata": {},
   "source": [
    "<font color=green>\n",
    "    \n",
    "Observamos una clara tendencia de valores bajo la norma y promedios y atípicos. Podríamos eliminarlos, pero serían muchos datos que se perdería, esto no siendo bueno. Podremos aprovechar que los datos se encuentran ordenado por las fechas y utilizar el método `ffill` para que cada dato se llene según el dato anterior en el tiempo.     \n",
    "</font>"
   ]
  },
  {
   "cell_type": "code",
   "execution_count": 14,
   "metadata": {},
   "outputs": [],
   "source": [
    "#Llenemos los DataFrame de entrenamiento y prueba\n",
    "data_train = data_train.fillna(method='ffill')\n",
    "data_test = data_test.fillna(method='ffill')\n",
    "\n",
    "#Aprovechamos de llenar el DataFrame completo también\n",
    "data_full = data_full.fillna(method='ffill')"
   ]
  },
  {
   "cell_type": "code",
   "execution_count": 15,
   "metadata": {
    "scrolled": true
   },
   "outputs": [],
   "source": [
    "#Verifiquemos si quedaron bien\n",
    "#data_train.isna().sum()"
   ]
  },
  {
   "cell_type": "code",
   "execution_count": 16,
   "metadata": {
    "scrolled": true
   },
   "outputs": [],
   "source": [
    "#data_test.isna().sum()"
   ]
  },
  {
   "cell_type": "code",
   "execution_count": 17,
   "metadata": {
    "scrolled": true
   },
   "outputs": [],
   "source": [
    "#data_full.isna().sum()"
   ]
  },
  {
   "cell_type": "markdown",
   "metadata": {},
   "source": [
    "<font color=green>\n",
    "    \n",
    "Logramos llenar todos los datos de todas las columnas.     \n",
    "</font>"
   ]
  },
  {
   "cell_type": "markdown",
   "metadata": {},
   "source": [
    "# Análisis de datos"
   ]
  },
  {
   "cell_type": "markdown",
   "metadata": {},
   "source": [
    "<font color=green>\n",
    "    \n",
    "En esta sección veremos 3 partes:\n",
    "\n",
    "1. Observaremos cómo cambia la concentración de metales (Au, Ag, Pb) en función de la etapa de purificación\n",
    "\n",
    "2. Compararemos las distribuciones del tamaño de las partículas de la alimentación en el conjunto de entrenamiento y en el conjunto de prueba. Si las distribuciones varían significativamente, la evaluación del modelo no será correcta\n",
    "\n",
    "3. Consideraremos las concentraciones totales de todas las sustancias en las diferentes etapas: materia prima, concentrado rougher y concentrado final.\n",
    "    ¿Observas algún valor anormal en la distribución total? Si es así, ¿merece la pena eliminar esos valores de ambas muestras?.\n",
    "</font>"
   ]
  },
  {
   "cell_type": "markdown",
   "metadata": {},
   "source": [
    "## 1. Concentración de metales en la etapa de purificación"
   ]
  },
  {
   "cell_type": "markdown",
   "metadata": {},
   "source": [
    "<font color=green>\n",
    "    \n",
    "Comenzaremos viendo las concentraciones de cada metal, encontrando los datos ordenados según la etapa, tipo de parámetro y nombre del parámetro. por ejemplo: `[stage].[parameter_type].[parameter_name]`, o sea:\n",
    "- stage o etapa: `primary_cleaner`, `secondary_cleaner` o `final`\n",
    "- parameter_type o tipo de parámetro: `output`\n",
    "- parameter_name o nombre de parámetro: `concentrate_au`, `conentrate_ag`, `tail_au`, `tail_ag` o `concentrate_pb`, `tail_pb`\n",
    "\n",
    "Según los datos dados, el concentrado rougher se pasa por dos etapas de limpieza. Después de eso, obtenemos el concentrado final y las colas rougher. Lo que nos generará 4 medidas por cada metal. El concentrado y la cola de cada proceso de limpieza. Por tema de que las colas rougher de cada proceso son mucho menores, tomaremos en consideración solamente los concentrados de cada metal.\n",
    "\n",
    "</font>"
   ]
  },
  {
   "cell_type": "markdown",
   "metadata": {},
   "source": [
    "### Au; Oro\n",
    "<font color=green>\n",
    "    \n",
    "Veamos la concentración de oro.    \n",
    "</font>"
   ]
  },
  {
   "cell_type": "code",
   "execution_count": 18,
   "metadata": {},
   "outputs": [
    {
     "data": {
      "image/png": "[encoded data removed]",
      "text/plain": [
       "<Figure size 1296x576 with 1 Axes>"
      ]
     },
     "metadata": {
      "needs_background": "light"
     },
     "output_type": "display_data"
    }
   ],
   "source": [
    "data_full.boxplot(['rougher.input.feed_au', 'rougher.output.concentrate_au', 'primary_cleaner.output.concentrate_au', 'final.output.concentrate_au'], figsize=(18,8))\n",
    "plt.show()"
   ]
  },
  {
   "cell_type": "code",
   "execution_count": 19,
   "metadata": {},
   "outputs": [
    {
     "data": {
      "image/png": "[encoded data removed]",
      "text/plain": [
       "<Figure size 1080x504 with 1 Axes>"
      ]
     },
     "metadata": {
      "needs_background": "light"
     },
     "output_type": "display_data"
    }
   ],
   "source": [
    "plt.figure(figsize=(15, 7))\n",
    "plt.hist(data_full['rougher.input.feed_au'], alpha=0.5, label='rougher.input.feed_au', bins = 50, color='red')\n",
    "plt.hist(data_full['rougher.output.concentrate_au'], alpha=0.5, label='rougher.output.concentrate_au', bins = 50, color='blue')\n",
    "plt.hist(data_full['primary_cleaner.output.concentrate_au'], alpha=0.5, label='primary_cleaner.output.concentrate_au', bins = 50, color='green')\n",
    "plt.hist(data_full['final.output.concentrate_au'], alpha=0.5, label='final.output.concentrate_au', bins = 50, color='orange')\n",
    "plt.title('Distribución de Au, Oro')\n",
    "plt.text(0.8, 0.9, 'rougher.input.feed_au', color='red', transform=plt.gca().transAxes)\n",
    "plt.text(0.8, 0.85, 'rougher.output.concentrate_au', color='blue', transform=plt.gca().transAxes)\n",
    "plt.text(0.8, 0.8, 'primary_cleaner.output.concentrate_au', color='green', transform=plt.gca().transAxes)\n",
    "plt.text(0.8, 0.75, 'final.output.concentrate_au', color='orange', transform=plt.gca().transAxes)\n",
    "plt.show()"
   ]
  },
  {
   "cell_type": "code",
   "execution_count": 20,
   "metadata": {},
   "outputs": [],
   "source": [
    "# data_full.hist(['rougher.input.feed_au', 'rougher.output.concentrate_au', 'primary_cleaner.output.concentrate_au', 'final.output.concentrate_au'], figsize=(18,8), alpha = 0.5)\n",
    "# plt.show()"
   ]
  },
  {
   "cell_type": "markdown",
   "metadata": {},
   "source": [
    "<font color=green>\n",
    "Según lo observado, vemos que al paso de cada etapa, la cantidad de oro va aumentando. Lo que tiene sentido, ya que el objetivo de este proceso es justamente esto, obtención de oro.  \n",
    "</font>\n",
    "\n"
   ]
  },
  {
   "cell_type": "markdown",
   "metadata": {},
   "source": [
    "### Ag; Plata\n",
    "<font color=green>\n",
    "Sigamos viendo el proceso, pero con la plata    \n",
    "</font>"
   ]
  },
  {
   "cell_type": "code",
   "execution_count": 21,
   "metadata": {},
   "outputs": [
    {
     "data": {
      "image/png": "[encoded data removed]",
      "text/plain": [
       "<Figure size 1296x576 with 1 Axes>"
      ]
     },
     "metadata": {
      "needs_background": "light"
     },
     "output_type": "display_data"
    }
   ],
   "source": [
    "data_full.boxplot(['rougher.input.feed_ag', 'rougher.output.concentrate_ag', 'primary_cleaner.output.concentrate_ag', 'final.output.concentrate_ag'], figsize=(18,8))\n",
    "plt.show()"
   ]
  },
  {
   "cell_type": "code",
   "execution_count": 22,
   "metadata": {},
   "outputs": [
    {
     "data": {
      "image/png": "[encoded data removed]",
      "text/plain": [
       "<Figure size 1080x504 with 1 Axes>"
      ]
     },
     "metadata": {
      "needs_background": "light"
     },
     "output_type": "display_data"
    }
   ],
   "source": [
    "plt.figure(figsize=(15, 7))\n",
    "plt.hist(data_full['rougher.input.feed_ag'], alpha=0.5, label='rougher.input.feed_ag', bins = 50, color='red')\n",
    "plt.hist(data_full['rougher.output.concentrate_ag'], alpha=0.5, label='rougher.output.concentrate_ag', bins = 50, color='blue')\n",
    "plt.hist(data_full['primary_cleaner.output.concentrate_ag'], alpha=0.5, label='primary_cleaner.output.concentrate_ag', bins = 50, color ='green')\n",
    "plt.hist(data_full['final.output.concentrate_ag'], alpha=0.5, label='final.output.concentrate_ag', bins = 50, color='orange')\n",
    "plt.title('Distribución del metal Ag, Plata\"')\n",
    "plt.text(0.8, 0.9, 'rougher.input.feed_ag', color='red', transform=plt.gca().transAxes)\n",
    "plt.text(0.8, 0.85, 'rougher.output.concentrate_ag', color='blue', transform=plt.gca().transAxes)\n",
    "plt.text(0.8, 0.8, 'primary_cleaner.output.concentrate_ag', color='green', transform=plt.gca().transAxes)\n",
    "plt.text(0.8, 0.75, 'final.output.concentrate_ag', color='orange', transform=plt.gca().transAxes)\n",
    "plt.show()"
   ]
  },
  {
   "cell_type": "code",
   "execution_count": 23,
   "metadata": {},
   "outputs": [],
   "source": [
    "# data_full.hist(['rougher.input.feed_ag', 'rougher.output.concentrate_ag', 'primary_cleaner.output.concentrate_ag', 'final.output.concentrate_ag'], figsize=(18,8))\n",
    "# plt.show()"
   ]
  },
  {
   "cell_type": "markdown",
   "metadata": {},
   "source": [
    "<font color=green>\n",
    "    \n",
    "Observamos un comportamiento diferente al del Oro. Si bien en el `rougher.output.concentrate_ag` la cantidad de plata extraída es alta, es el punto más alto dentro del proceso, disminuyendo después.   \n",
    "</font>"
   ]
  },
  {
   "cell_type": "markdown",
   "metadata": {},
   "source": [
    "### Pb; Plomo\n",
    "<font color=green>\n",
    "Sigamos viendo el proceso, pero con el plomo    \n",
    "</font>"
   ]
  },
  {
   "cell_type": "code",
   "execution_count": 24,
   "metadata": {
    "scrolled": true
   },
   "outputs": [
    {
     "data": {
      "image/png": "[encoded data removed]",
      "text/plain": [
       "<Figure size 1296x576 with 1 Axes>"
      ]
     },
     "metadata": {
      "needs_background": "light"
     },
     "output_type": "display_data"
    }
   ],
   "source": [
    "data_full.boxplot(['rougher.input.feed_pb', 'rougher.output.concentrate_pb', 'primary_cleaner.output.concentrate_pb', 'final.output.concentrate_pb'], figsize=(18,8))\n",
    "plt.show()"
   ]
  },
  {
   "cell_type": "code",
   "execution_count": 25,
   "metadata": {},
   "outputs": [
    {
     "data": {
      "image/png": "[encoded data removed]",
      "text/plain": [
       "<Figure size 1080x504 with 1 Axes>"
      ]
     },
     "metadata": {
      "needs_background": "light"
     },
     "output_type": "display_data"
    }
   ],
   "source": [
    "plt.figure(figsize=(15, 7))\n",
    "plt.hist(data_full['rougher.input.feed_pb'], alpha=0.5, label='rougher.input.feed_pb', bins = 50, color='red')\n",
    "plt.hist(data_full['rougher.output.concentrate_pb'], alpha=0.5, label='rougher.output.concentrate_pb', bins = 50, color='blue')\n",
    "plt.hist(data_full['primary_cleaner.output.concentrate_pb'], alpha=0.5, label='primary_cleaner.output.concentrate_pb', bins = 50, color='green')\n",
    "plt.hist(data_full['final.output.concentrate_pb'], alpha=0.5, label='final.output.concentrate_pb', bins = 50, color='orange')\n",
    "plt.title('Distribución del Pb, Plomo')\n",
    "plt.text(0.8, 0.9, 'rougher.input.feed_pb', color='red', transform=plt.gca().transAxes)\n",
    "plt.text(0.8, 0.85, 'rougher.output.concentrate_pb', color='blue', transform=plt.gca().transAxes)\n",
    "plt.text(0.8, 0.8, 'primary_cleaner.output.concentrate_pb', color='green', transform=plt.gca().transAxes)\n",
    "plt.text(0.8, 0.75, 'final.output.concentrate_pb', color='orange', transform=plt.gca().transAxes)\n",
    "plt.show()"
   ]
  },
  {
   "cell_type": "code",
   "execution_count": 26,
   "metadata": {},
   "outputs": [],
   "source": [
    "# data_full.hist(['rougher.input.feed_pb', 'rougher.output.concentrate_pb', 'primary_cleaner.output.concentrate_pb', 'final.output.concentrate_pb'], figsize=(18,8))\n",
    "# plt.show()"
   ]
  },
  {
   "cell_type": "markdown",
   "metadata": {},
   "source": [
    "<font color=green>\n",
    "    \n",
    "Con el plomo observamos algo parecido al Oro. Al pasar las etapas, va aumentando su extracción, menos hacia el final, que llega a mantenerse en la cantidad.   \n",
    "</font>"
   ]
  },
  {
   "cell_type": "markdown",
   "metadata": {},
   "source": [
    "## 2. Distribuciones del tamaño de las partículas de la alimentación"
   ]
  },
  {
   "cell_type": "markdown",
   "metadata": {},
   "source": [
    "<font color=green>\n",
    "    \n",
    "Como descrito anteriormente, en este paso compararemos las distribuciones del tamaño de las partículas (`feed_size`) de la alimentación en el conjunto de entrenamiento y en el conjunto de prueba.  \n",
    "</font>"
   ]
  },
  {
   "cell_type": "code",
   "execution_count": 27,
   "metadata": {},
   "outputs": [
    {
     "data": {
      "image/png": "[encoded data removed]",
      "text/plain": [
       "<Figure size 720x504 with 1 Axes>"
      ]
     },
     "metadata": {
      "needs_background": "light"
     },
     "output_type": "display_data"
    }
   ],
   "source": [
    "plt.figure(figsize=(10, 7))\n",
    "plt.hist(data_train['rougher.input.feed_size'], alpha=0.5, label='data_train', bins = 50, color='red')\n",
    "plt.hist(data_test['rougher.input.feed_size'], alpha=0.5, label='data_test', bins = 50, color='green')\n",
    "plt.title('Distribución de la columna \"rougher.input.feed_size\"')\n",
    "plt.show()"
   ]
  },
  {
   "cell_type": "markdown",
   "metadata": {},
   "source": [
    "### Conjunto de entrenamiento"
   ]
  },
  {
   "cell_type": "code",
   "execution_count": 28,
   "metadata": {},
   "outputs": [],
   "source": [
    "# data_train.boxplot(['rougher.input.feed_size', 'primary_cleaner.input.feed_size'], figsize=(18,8))\n",
    "# plt.show()"
   ]
  },
  {
   "cell_type": "code",
   "execution_count": 29,
   "metadata": {},
   "outputs": [
    {
     "data": {
      "text/plain": [
       "count    16860.000000\n",
       "mean        60.188595\n",
       "std         30.522242\n",
       "min          9.659576\n",
       "25%         47.548897\n",
       "50%         54.066003\n",
       "75%         65.397249\n",
       "max        484.967466\n",
       "Name: rougher.input.feed_size, dtype: float64"
      ]
     },
     "execution_count": 29,
     "metadata": {},
     "output_type": "execute_result"
    }
   ],
   "source": [
    "#analizemos el 'rougher.input.feed_size' del conjunto de entrenamiento\n",
    "data_train['rougher.input.feed_size'].describe()"
   ]
  },
  {
   "cell_type": "code",
   "execution_count": 30,
   "metadata": {},
   "outputs": [],
   "source": [
    "#analizemos el 'primary_cleaner.input.feed_size' del conjunto de entrenamiento\n",
    "# data_train['primary_cleaner.input.feed_size'].describe()"
   ]
  },
  {
   "cell_type": "markdown",
   "metadata": {},
   "source": [
    "### Conjunto de prueba"
   ]
  },
  {
   "cell_type": "code",
   "execution_count": 31,
   "metadata": {},
   "outputs": [],
   "source": [
    "# #veamos un boxplot\n",
    "# data_test.boxplot(['rougher.input.feed_size', 'primary_cleaner.input.feed_size'], figsize=(18,8))\n",
    "# plt.show()"
   ]
  },
  {
   "cell_type": "code",
   "execution_count": 32,
   "metadata": {},
   "outputs": [
    {
     "data": {
      "text/plain": [
       "count    5856.000000\n",
       "mean       55.898866\n",
       "std        22.707969\n",
       "min         0.046369\n",
       "25%        43.852884\n",
       "50%        49.964796\n",
       "75%        61.628003\n",
       "max       477.445473\n",
       "Name: rougher.input.feed_size, dtype: float64"
      ]
     },
     "execution_count": 32,
     "metadata": {},
     "output_type": "execute_result"
    }
   ],
   "source": [
    "#analizemos el 'rougher.input.feed_size' del conjunto de prueba\n",
    "data_test['rougher.input.feed_size'].describe()"
   ]
  },
  {
   "cell_type": "code",
   "execution_count": 33,
   "metadata": {},
   "outputs": [],
   "source": [
    "#analizemos el 'primary_cleaner.input.feed_size' del conjunto de prueba\n",
    "# data_test['primary_cleaner.input.feed_size'].describe()"
   ]
  },
  {
   "cell_type": "markdown",
   "metadata": {},
   "source": [
    "<!-- <font color=green>\n",
    "    \n",
    "Tanto en el conjunto de entrenamiento y prueba, podemos observar que el tamaño de partículas disminuye después del primer ciclo de purificación. Que hace lógica, ya que el rougher input contiene muchos otros elementos extras que son extraídos y eliminados en este paso.\n",
    "\n",
    "En ambos conjuntos, la media como mediana son relativamente parecidos en la columna `rougher.input.feed_size`y en la columna `primary_cleaner.input.feed_size`.\n",
    "</font> -->"
   ]
  },
  {
   "cell_type": "markdown",
   "metadata": {},
   "source": [
    "\n",
    "<font color=green>\n",
    "       \n",
    "Comparando la columna `rougher.input.feed_size`, podemos observar la distribución de la variable, tanto en el conjunto de entrenamiento como en el de prueba, son muy parecidos. Esto es bueno porque indica que la distribución del atributo es consistente entre los conjuntos.\n",
    "   \n",
    "Ambos conjuntos de datos muestran una distribución sesgada hacia la izquierda con un pico alrededor de las 50 unidades. Y a su vez, asimétrico.    \n",
    "\n",
    "</font>"
   ]
  },
  {
   "cell_type": "markdown",
   "metadata": {},
   "source": [
    "### 3. Concentraciones totales de todas las sustancias en las diferentes etapas"
   ]
  },
  {
   "cell_type": "markdown",
   "metadata": {},
   "source": [
    "<font color=green>\n",
    "    \n",
    "En este punto, necesitamos responder: ¿Observamos algún valor anormal en la distribución total? Si es así, ¿merece la pena eliminar esos valores de ambas muestras? \n",
    "\n",
    "Para poder responder esto, nos fijaremos en las concentraciones de cada metal en cada etapa. Las mediremos con una gráfica de cajas, con bigotes. Eliminaremos los valores atípicos según la concentración de otro, por ser el metal más importante y el objetivo de los procesos de filtración.\n",
    "</font>\n",
    "\n",
    "\n"
   ]
  },
  {
   "cell_type": "markdown",
   "metadata": {},
   "source": [
    "<!-- <font color=green>\n",
    " ~~Crearemos funciones que nos permitirán eliminar los valores atípicos~~    \n",
    "</font> -->"
   ]
  },
  {
   "cell_type": "code",
   "execution_count": 34,
   "metadata": {},
   "outputs": [],
   "source": [
    "# #Función que permite encontrar bigote superior\n",
    "# def up_iqr_finder(data, column):\n",
    "#     return data[column].quantile(0.75) + (data[column].quantile(0.75) - data[column].quantile(0.25))*1.5\n",
    "\n",
    "# #Función que permite encontrar bigote inferior\n",
    "# def down_iqr_finder(data, column):\n",
    "#     return data[column].quantile(0.25) - (data[column].quantile(0.75) - data[column].quantile(0.25))*1.5\n",
    "\n",
    "# #Función que permite filtrar el dataset con los valores típicos encontrados dentro de los límites de los bigotes\n",
    "# def iqr_limit(data, limit_up, limit_down, column):\n",
    "#     data_set = data[(data[column]<=limit_up) & (data[column]>=limit_down)]\n",
    "#     return data_set"
   ]
  },
  {
   "cell_type": "code",
   "execution_count": 35,
   "metadata": {},
   "outputs": [
    {
     "data": {
      "image/png": "[encoded data removed]",
      "text/plain": [
       "<Figure size 1296x576 with 1 Axes>"
      ]
     },
     "metadata": {
      "needs_background": "light"
     },
     "output_type": "display_data"
    }
   ],
   "source": [
    "#Juntamos las entradas del rougher\n",
    "data_train['rougher.input'] = data_train['rougher.input.feed_ag']+data_train['rougher.input.feed_au']+data_train['rougher.input.feed_pb']+data_train['rougher.input.feed_sol']\n",
    "\n",
    "#Juntamos las salidas del rougher\n",
    "data_train['rougher.output'] = data_train['rougher.output.concentrate_au']+data_train['rougher.output.concentrate_ag']+data_train['rougher.output.concentrate_pb']+data_train['rougher.output.concentrate_sol']\n",
    "\n",
    "#Juntamos las salidas del proceso final\n",
    "data_train['final.output'] = data_train['final.output.concentrate_au']+data_train['final.output.concentrate_ag']+data_train['final.output.concentrate_pb']+data_train['final.output.concentrate_sol']\n",
    "\n",
    "#Creamos un gráfico\n",
    "data_train.boxplot(['rougher.input', 'rougher.output','final.output'], figsize=(18,8))\n",
    "plt.yticks(np.arange(0, 91, 5))\n",
    "#Promedio de input del proceso rougher, en azul\n",
    "plt.hlines(data_train['rougher.input'].mean(),xmin=0.5,xmax=1.5,colors='blue')\n",
    "#Promedio de output del proceso rougher, en naranja\n",
    "plt.hlines(data_train['rougher.output'].mean(),xmin=1.5,xmax=2.5,colors='orange')\n",
    "#Promedio de output final del proceso, en verde\n",
    "plt.hlines(data_train['final.output'].mean(),xmin=2.5,xmax=3.5,colors='green')\n",
    "\n",
    "plt.show()"
   ]
  },
  {
   "cell_type": "markdown",
   "metadata": {},
   "source": [
    "<font color=green>\n",
    "\n",
    "Veamos los datos, pero con un histograma, manteniendo los mismos colores\n",
    "</font>"
   ]
  },
  {
   "cell_type": "code",
   "execution_count": 36,
   "metadata": {
    "scrolled": false
   },
   "outputs": [
    {
     "data": {
      "image/png": "[encoded data removed]",
      "text/plain": [
       "<Figure size 1296x576 with 1 Axes>"
      ]
     },
     "metadata": {
      "needs_background": "light"
     },
     "output_type": "display_data"
    }
   ],
   "source": [
    "plt.figure(figsize=(18,8))\n",
    "plt.hist([data_train['rougher.input'], data_train['rougher.output'], data_train['final.output']], bins=50)\n",
    "\n",
    "plt.show()"
   ]
  },
  {
   "cell_type": "markdown",
   "metadata": {},
   "source": [
    "<font color=green>\n",
    "\n",
    "Veamos cada concentración con su Histograma individual\n",
    "</font>"
   ]
  },
  {
   "cell_type": "code",
   "execution_count": 37,
   "metadata": {},
   "outputs": [
    {
     "data": {
      "image/png": "[encoded data removed]",
      "text/plain": [
       "<Figure size 432x288 with 1 Axes>"
      ]
     },
     "metadata": {
      "needs_background": "light"
     },
     "output_type": "display_data"
    }
   ],
   "source": [
    "data_train['rougher.input'].hist(bins=50)\n",
    "plt.title('Rougher.input')\n",
    "plt.show()"
   ]
  },
  {
   "cell_type": "code",
   "execution_count": 38,
   "metadata": {},
   "outputs": [
    {
     "data": {
      "image/png": "[encoded data removed]",
      "text/plain": [
       "<Figure size 432x288 with 1 Axes>"
      ]
     },
     "metadata": {
      "needs_background": "light"
     },
     "output_type": "display_data"
    }
   ],
   "source": [
    "data_train['rougher.output'].hist(bins=50)\n",
    "plt.title('rougher.output')\n",
    "plt.show()"
   ]
  },
  {
   "cell_type": "code",
   "execution_count": 39,
   "metadata": {},
   "outputs": [
    {
     "data": {
      "image/png": "[encoded data removed]",
      "text/plain": [
       "<Figure size 432x288 with 1 Axes>"
      ]
     },
     "metadata": {
      "needs_background": "light"
     },
     "output_type": "display_data"
    }
   ],
   "source": [
    "data_train['final.output'].hist(bins=50)\n",
    "plt.title('final.output')\n",
    "plt.show()"
   ]
  },
  {
   "cell_type": "markdown",
   "metadata": {},
   "source": [
    "<font color=green>\n",
    "\n",
    "Observamos que en cada una de las 3 concentraciones hay gran valor en 0, los cuales elimnaremos y mostraremos como quedan los histogramas sin estos valores\n",
    "</font>"
   ]
  },
  {
   "cell_type": "code",
   "execution_count": 40,
   "metadata": {},
   "outputs": [
    {
     "data": {
      "image/png": "[encoded data removed]",
      "text/plain": [
       "<Figure size 432x288 with 1 Axes>"
      ]
     },
     "metadata": {
      "needs_background": "light"
     },
     "output_type": "display_data"
    }
   ],
   "source": [
    "data_train_clean = data_train.loc[data_train['rougher.input'] != 0]\n",
    "data_train_clean['rougher.input'].hist(bins=50)\n",
    "plt.title('Rougher.input')\n",
    "plt.show()"
   ]
  },
  {
   "cell_type": "code",
   "execution_count": 41,
   "metadata": {},
   "outputs": [
    {
     "data": {
      "image/png": "[encoded data removed]",
      "text/plain": [
       "<Figure size 432x288 with 1 Axes>"
      ]
     },
     "metadata": {
      "needs_background": "light"
     },
     "output_type": "display_data"
    }
   ],
   "source": [
    "data_train_clean = data_train.loc[data_train['rougher.output'] != 0]\n",
    "data_train_clean['rougher.output'].hist(bins=50)\n",
    "plt.title('rougher.output')\n",
    "plt.show()"
   ]
  },
  {
   "cell_type": "code",
   "execution_count": 42,
   "metadata": {},
   "outputs": [
    {
     "data": {
      "image/png": "[encoded data removed]",
      "text/plain": [
       "<Figure size 432x288 with 1 Axes>"
      ]
     },
     "metadata": {
      "needs_background": "light"
     },
     "output_type": "display_data"
    }
   ],
   "source": [
    "data_train_clean = data_train.loc[data_train['final.output'] != 0]\n",
    "data_train_clean['final.output'].hist(bins=50)\n",
    "plt.title('final.output')\n",
    "plt.show()"
   ]
  },
  {
   "cell_type": "markdown",
   "metadata": {},
   "source": [
    "<font color=green>\n",
    "\n",
    "Teniendo y observando estos dos gráficos, podemos contestar la consulta hecha al principio:\n",
    "\n",
    "    ¿Observamos algún valor anormal en la distribución total?\n",
    "    \n",
    "Respuesta: Si, tenemos varios valores anormales. En cada etapa tenemos valores tanto sobre como bajo los bigotes. Teniendo también un grupo cerca de valor 0.\n",
    "\n",
    "    ¿Merece la pena eliminar esos valores de ambas muestras?\n",
    "    \n",
    "Respuesta: Sí, merece la pena eliminar esos valores, sobretodo los valores 0, ya que es un valor fuera de lo normal para este tipo de muestra en `rougher.output` y `final.output` y `rougher.input`.    \n",
    "</font>"
   ]
  },
  {
   "cell_type": "code",
   "execution_count": 43,
   "metadata": {},
   "outputs": [],
   "source": [
    "# Veamos el largo original del set de entrenamiento\n",
    "# print('Largo original:', len(data_train))\n",
    "\n",
    "# # Fijemos los limites de corte\n",
    "# rougher_up = up_iqr_finder(data_train, 'rougher.output')\n",
    "# rougher_down = down_iqr_finder(data_train, 'rougher.output')\n",
    "\n",
    "# final_up = up_iqr_finder(data_train, 'final.output')\n",
    "# final_down = down_iqr_finder(data_train, 'final.output')\n",
    "\n",
    "# # Apliquemos la limpieza de datos atípicos\n",
    "# data_train_clean = iqr_limit(data_train, rougher_up, rougher_down, 'rougher.output')\n",
    "# data_train_clean = iqr_limit(data_train_clean, final_up, final_down, 'final.output')\n",
    "\n",
    "# Veamos el largo luego de la limpieza\n",
    "# print('Largo post limpieza:', len(data_train_clean))"
   ]
  },
  {
   "cell_type": "markdown",
   "metadata": {},
   "source": [
    "<!-- <font color=green>\n",
    "\n",
    "Haber eliminado los datos atípicos de nuestro DataFrame de entrenamiento, tenemos casi un 15% menos de datos.\n",
    "\n",
    "No podremos hacer lo mismo con nuestro conjunto de prueba, ya que no tenemos las columnas estudiadas en esta sección.\n",
    "</font> -->"
   ]
  },
  {
   "cell_type": "code",
   "execution_count": 44,
   "metadata": {},
   "outputs": [
    {
     "data": {
      "image/png": "[encoded data removed]",
      "text/plain": [
       "<Figure size 1296x576 with 1 Axes>"
      ]
     },
     "metadata": {
      "needs_background": "light"
     },
     "output_type": "display_data"
    }
   ],
   "source": [
    "#Volvamos a ver la distribución de los datos limpios, con gráficos\n",
    "data_train_clean.boxplot(['rougher.input', 'rougher.output','final.output'], figsize=(18,8))\n",
    "plt.yticks(np.arange(0, 91, 5))\n",
    "#Promedio de input del proceso rougher, en azul\n",
    "plt.hlines(data_train_clean['rougher.input'].mean(),xmin=0.5,xmax=1.5,colors='blue')\n",
    "#Promedio de output del proceso rougher, en naranja\n",
    "plt.hlines(data_train_clean['rougher.output'].mean(),xmin=1.5,xmax=2.5,colors='orange')\n",
    "#Promedio de output final del proceso, en verde\n",
    "plt.hlines(data_train_clean['final.output'].mean(),xmin=2.5,xmax=3.5,colors='green')\n",
    "\n",
    "plt.show()"
   ]
  },
  {
   "cell_type": "code",
   "execution_count": 45,
   "metadata": {},
   "outputs": [
    {
     "data": {
      "image/png": "[encoded data removed]",
      "text/plain": [
       "<Figure size 1296x576 with 1 Axes>"
      ]
     },
     "metadata": {
      "needs_background": "light"
     },
     "output_type": "display_data"
    }
   ],
   "source": [
    "plt.figure(figsize=(18,8))\n",
    "plt.hist([data_train_clean['rougher.input'], data_train_clean['rougher.output'], data_train_clean['final.output']], bins=25)\n",
    "plt.xticks(np.arange(0, 91, 10))\n",
    "plt.show()"
   ]
  },
  {
   "cell_type": "markdown",
   "metadata": {},
   "source": [
    "<font color=green>\n",
    "\n",
    "Ahora podemos observar que los datos se han vuelto más parejos y se encuentran ubicados alrededor de la mediana y media.\n",
    "</font>"
   ]
  },
  {
   "cell_type": "markdown",
   "metadata": {},
   "source": [
    "# Modelos predictivos\n",
    "\n",
    "<font color=green>\n",
    "\n",
    "Antes de que comenzemos con los modelos, crearemos la función sMAPE y nuestra semilla\n",
    "</font>"
   ]
  },
  {
   "cell_type": "code",
   "execution_count": 46,
   "metadata": {},
   "outputs": [],
   "source": [
    "def final_smape(target, prediction):\n",
    "    # Función interna\n",
    "    def smape(target_1,prediction_1):\n",
    "        smaped = np.mean((np.abs(target_1 - prediction_1)/((np.abs(target_1)+np.abs(prediction_1))/2))) * 100\n",
    "        return smaped\n",
    "    \n",
    "    # Calculo de smape final para Rougher[0] y Final[1]\n",
    "    smape_rougher = smape(target.iloc[:,0], prediction[:,0]) \n",
    "    smape_final   = smape(target.iloc[:,1], prediction[:,1]) \n",
    "    final_smape   = (0.25 * smape_rougher) + (0.75 * smape_final)\n",
    "\n",
    "    return final_smape\n",
    "\n",
    "sMAPE_score = make_scorer(final_smape, greater_is_better = False) "
   ]
  },
  {
   "cell_type": "markdown",
   "metadata": {},
   "source": []
  },
  {
   "cell_type": "code",
   "execution_count": 47,
   "metadata": {},
   "outputs": [],
   "source": [
    "#Fijamos una semilla \n",
    "rs = RandomState(54321)"
   ]
  },
  {
   "cell_type": "markdown",
   "metadata": {},
   "source": [
    "## Features y Targets\n",
    "\n",
    "<font color=green>\n",
    "\n",
    "</font>"
   ]
  },
  {
   "cell_type": "code",
   "execution_count": 48,
   "metadata": {},
   "outputs": [],
   "source": [
    "#Antes de seguir creando los features y targets, verificamos la diferencia de columnas entre ambos DF, train y test"
   ]
  },
  {
   "cell_type": "code",
   "execution_count": 49,
   "metadata": {},
   "outputs": [
    {
     "name": "stdout",
     "output_type": "stream",
     "text": [
      "Columnas que quedaron fuera del DataFrame de prueba:\n",
      "\n",
      "final.output.tail_pb\n",
      "primary_cleaner.output.tail_au\n",
      "rougher.output.tail_ag\n",
      "secondary_cleaner.output.tail_au\n",
      "final.output.concentrate_pb\n",
      "rougher.output\n",
      "primary_cleaner.output.tail_sol\n",
      "rougher.calculation.floatbank10_sulfate_to_au_feed\n",
      "final.output.concentrate_ag\n",
      "secondary_cleaner.output.tail_ag\n",
      "secondary_cleaner.output.tail_pb\n",
      "primary_cleaner.output.concentrate_pb\n",
      "primary_cleaner.output.tail_ag\n",
      "primary_cleaner.output.concentrate_ag\n",
      "rougher.output.tail_pb\n",
      "final.output\n",
      "primary_cleaner.output.concentrate_sol\n",
      "rougher.output.concentrate_ag\n",
      "primary_cleaner.output.concentrate_au\n",
      "rougher.calculation.au_pb_ratio\n",
      "rougher.output.concentrate_sol\n",
      "final.output.concentrate_au\n",
      "final.output.recovery\n",
      "rougher.calculation.sulfate_to_au_concentrate\n",
      "rougher.input\n",
      "rougher.calculation.floatbank11_sulfate_to_au_feed\n",
      "secondary_cleaner.output.tail_sol\n",
      "final.output.concentrate_sol\n",
      "primary_cleaner.output.tail_pb\n",
      "final.output.tail_sol\n",
      "rougher.output.tail_sol\n",
      "rougher.output.tail_au\n",
      "rougher.output.recovery\n",
      "rougher.output.concentrate_pb\n",
      "rougher.output.concentrate_au\n",
      "final.output.tail_ag\n",
      "final.output.tail_au\n"
     ]
    }
   ],
   "source": [
    "missing_columns_t_t = set(data_train.columns) - set(data_test.columns) #Obtenemos las columnas que faltan en el DataFrame de prueba\n",
    "\n",
    "#Imprimimos las columnas que quedaron afuera\n",
    "print('Columnas que quedaron fuera del DataFrame de prueba:')\n",
    "print()\n",
    "for columns in missing_columns_t_t:\n",
    "    print(columns)"
   ]
  },
  {
   "cell_type": "code",
   "execution_count": 50,
   "metadata": {},
   "outputs": [],
   "source": [
    "#Eliminamos todas las columnas, menos las dos necesarias\n",
    "columns_to_delete = []\n",
    "for missing in missing_columns_t_t:\n",
    "    if missing not in ('rougher.output.recovery', 'final.output.recovery'):\n",
    "        columns_to_delete.append(missing)\n",
    "        \n",
    "        \n",
    "data_train_clean = data_train_clean.drop(columns = columns_to_delete ) #lo aplicamos a nuestro conjunto de train\n"
   ]
  },
  {
   "cell_type": "code",
   "execution_count": 51,
   "metadata": {},
   "outputs": [
    {
     "data": {
      "text/plain": [
       "(15540, 55)"
      ]
     },
     "execution_count": 51,
     "metadata": {},
     "output_type": "execute_result"
    }
   ],
   "source": [
    "#veamos como quedó\n",
    "data_train_clean.shape"
   ]
  },
  {
   "cell_type": "code",
   "execution_count": 52,
   "metadata": {},
   "outputs": [
    {
     "data": {
      "text/plain": [
       "(5856, 53)"
      ]
     },
     "execution_count": 52,
     "metadata": {},
     "output_type": "execute_result"
    }
   ],
   "source": [
    "data_test.shape"
   ]
  },
  {
   "cell_type": "code",
   "execution_count": 53,
   "metadata": {},
   "outputs": [],
   "source": [
    "#data_full.dtypes"
   ]
  },
  {
   "cell_type": "code",
   "execution_count": 54,
   "metadata": {},
   "outputs": [],
   "source": [
    "#data_test.dtypes"
   ]
  },
  {
   "cell_type": "code",
   "execution_count": 55,
   "metadata": {},
   "outputs": [],
   "source": [
    "#cambiamos el tipo de dato de la columna 'date' del conjunto test\n",
    "data_test['date'] = pd.to_datetime(data_test['date'])"
   ]
  },
  {
   "cell_type": "code",
   "execution_count": 56,
   "metadata": {},
   "outputs": [],
   "source": [
    "#cambiamos el tipo de dato de la columna 'date' del conjunto full\n",
    "data_full['date'] = pd.to_datetime(data_full['date'])"
   ]
  },
  {
   "cell_type": "markdown",
   "metadata": {},
   "source": [
    "<font color=green>\n",
    "\n",
    "Este cambio de dtype de esa columna de ambos conjuntos, se tuvo que efectuar, para poder ejecutar el `.merge()`\n",
    "</font>"
   ]
  },
  {
   "cell_type": "code",
   "execution_count": 57,
   "metadata": {},
   "outputs": [],
   "source": [
    "#data_test.dtypes"
   ]
  },
  {
   "cell_type": "code",
   "execution_count": 58,
   "metadata": {},
   "outputs": [],
   "source": [
    "#data_full.dtypes"
   ]
  },
  {
   "cell_type": "code",
   "execution_count": 59,
   "metadata": {},
   "outputs": [],
   "source": [
    "#Juntamos las columnas necesarias para que nuestro conjunto de test cuente con ellos\n",
    "data_test = data_test.merge(data_full[['date','rougher.output.recovery', 'final.output.recovery']], how = 'left', on = 'date')"
   ]
  },
  {
   "cell_type": "code",
   "execution_count": 60,
   "metadata": {},
   "outputs": [
    {
     "data": {
      "text/plain": [
       "(5856, 55)"
      ]
     },
     "execution_count": 60,
     "metadata": {},
     "output_type": "execute_result"
    }
   ],
   "source": [
    "#Veamos tamaño del conjunto test\n",
    "data_test.shape"
   ]
  },
  {
   "cell_type": "code",
   "execution_count": 61,
   "metadata": {},
   "outputs": [
    {
     "data": {
      "text/plain": [
       "(15540, 55)"
      ]
     },
     "execution_count": 61,
     "metadata": {},
     "output_type": "execute_result"
    }
   ],
   "source": [
    "#Veamos tamaño conjunto train\n",
    "data_train_clean.shape"
   ]
  },
  {
   "cell_type": "code",
   "execution_count": 62,
   "metadata": {},
   "outputs": [
    {
     "data": {
      "text/plain": [
       "set()"
      ]
     },
     "execution_count": 62,
     "metadata": {},
     "output_type": "execute_result"
    }
   ],
   "source": [
    "#Vemos si son simétricos\n",
    "set(data_train_clean.columns).symmetric_difference(set(data_train_clean.columns))"
   ]
  },
  {
   "cell_type": "code",
   "execution_count": 63,
   "metadata": {
    "scrolled": true
   },
   "outputs": [
    {
     "data": {
      "text/plain": [
       "0"
      ]
     },
     "execution_count": 63,
     "metadata": {},
     "output_type": "execute_result"
    }
   ],
   "source": [
    "#Verificamos si tenemos valores NaN\n",
    "data_test.isna().sum().sum()"
   ]
  },
  {
   "cell_type": "markdown",
   "metadata": {},
   "source": [
    "<font color=green>\n",
    "\n",
    "Verificado todo y limpio y teniendo ambos conjuntos del mismo tamaño de columnas, podemos crear nuestros `features` y `targets`\n",
    "</font>"
   ]
  },
  {
   "cell_type": "code",
   "execution_count": 64,
   "metadata": {},
   "outputs": [],
   "source": [
    "#Creamos nuestros features y targets de ambos conjuntos\n",
    "features_train = data_train_clean.drop(['date','rougher.output.recovery', 'final.output.recovery'], axis=1)\n",
    "target_train = data_train_clean[['rougher.output.recovery', 'final.output.recovery']]\n",
    "features_test = data_test.drop(['date','rougher.output.recovery', 'final.output.recovery'], axis=1)\n",
    "target_test = data_test[['rougher.output.recovery', 'final.output.recovery']]"
   ]
  },
  {
   "cell_type": "markdown",
   "metadata": {},
   "source": [
    "<font color=green>\n",
    "\n",
    "Creados nuestros `features` y `targets` para los conjuntos correspondientes, podemos seguir con nuestros Modelos, con sus cross validation\n",
    "</font>"
   ]
  },
  {
   "cell_type": "markdown",
   "metadata": {},
   "source": [
    "## Modelos"
   ]
  },
  {
   "cell_type": "code",
   "execution_count": 65,
   "metadata": {},
   "outputs": [
    {
     "name": "stdout",
     "output_type": "stream",
     "text": [
      "Puntuación media de la evaluación del modelo: 14.320004178131308\n"
     ]
    }
   ],
   "source": [
    "reg = LinearRegression()\n",
    "scores = cross_val_score(reg, features_train, target_train, cv=5, scoring=make_scorer(final_smape)) # < calcula las puntuaciones llamando a la función cross_value_score con cinco bloques >\n",
    "\n",
    "final_score= sum(scores)/len(scores)\n",
    "\n",
    "print('Puntuación media de la evaluación del modelo:', final_score)"
   ]
  },
  {
   "cell_type": "code",
   "execution_count": 66,
   "metadata": {},
   "outputs": [
    {
     "name": "stdout",
     "output_type": "stream",
     "text": [
      "Puntuación media de la evaluación del modelo: 19.718144282308188\n"
     ]
    }
   ],
   "source": [
    "tree = DecisionTreeRegressor()\n",
    "scores = cross_val_score(tree, features_train, target_train, cv=5, scoring=make_scorer(final_smape)) # < calcula las puntuaciones llamando a la función cross_value_score con cinco bloques >\n",
    "\n",
    "final_score= sum(scores)/len(scores)\n",
    "\n",
    "print('Puntuación media de la evaluación del modelo:', final_score)"
   ]
  },
  {
   "cell_type": "code",
   "execution_count": 67,
   "metadata": {},
   "outputs": [
    {
     "name": "stdout",
     "output_type": "stream",
     "text": [
      "Puntuación media de la evaluación del modelo: 12.410573150255436\n"
     ]
    }
   ],
   "source": [
    "best_model = None\n",
    "best_result = 1000\n",
    "best_est = 0\n",
    "best_depth = 0\n",
    "for est in range(7,14,2):\n",
    "    for depth in range (3,7):\n",
    "        model = RandomForestRegressor(random_state=12345, n_estimators = est, max_depth=depth)    \n",
    "        scores = cross_val_score(model, features_train, target_train, cv=4,scoring = make_scorer(final_smape))\n",
    "        if scores.mean() < best_result:\n",
    "            best_model = model\n",
    "            best_result = scores.mean()\n",
    "            best_est = est\n",
    "            best_depth = depth\n",
    "            \n",
    "final_score = sum(scores)/len(scores)\n",
    "\n",
    "print('Puntuación media de la evaluación del modelo:', final_score)        "
   ]
  },
  {
   "cell_type": "code",
   "execution_count": 68,
   "metadata": {
    "scrolled": false
   },
   "outputs": [],
   "source": [
    "# forest = RandomForestRegressor(n_estimators=80, max_depth=20, min_samples_leaf = 5,random_state=rs)\n",
    "# scores = cross_val_score(forest, features_train, target_train, cv=5, scoring=make_scorer(final_smape)) # < calcula las puntuaciones llamando a la función cross_value_score con cinco bloques >\n",
    "\n",
    "# final_score= sum(scores)/len(scores)\n",
    "\n",
    "# print('Puntuación media de la evaluación del modelo:', final_score)"
   ]
  },
  {
   "cell_type": "markdown",
   "metadata": {},
   "source": [
    "<font color=green>\n",
    "\n",
    "Nuestro mejor modelo de los 3 es: `RandomForestRegressor` con una puntuación media de la evaluación de: 12.41\n",
    "</font>"
   ]
  },
  {
   "cell_type": "markdown",
   "metadata": {},
   "source": [
    "## Testeo de nuestro mejor modelo"
   ]
  },
  {
   "cell_type": "code",
   "execution_count": 69,
   "metadata": {},
   "outputs": [
    {
     "data": {
      "text/plain": [
       "12.598087807848572"
      ]
     },
     "execution_count": 69,
     "metadata": {},
     "output_type": "execute_result"
    }
   ],
   "source": [
    "#Bosque Aleatorio\n",
    "best_model.fit(features_train, target_train)\n",
    "pred = best_model.predict(features_test)\n",
    "final_smape(target_test, pred)"
   ]
  },
  {
   "cell_type": "code",
   "execution_count": 70,
   "metadata": {},
   "outputs": [],
   "source": [
    "# tree.fit(features_train, target_train)\n",
    "# pred = tree.predict(features_test)\n",
    "# final_smape(target_test, pred)"
   ]
  },
  {
   "cell_type": "code",
   "execution_count": 71,
   "metadata": {},
   "outputs": [],
   "source": [
    "# reg.fit(features_train, target_train)\n",
    "# pred = reg.predict(features_test)\n",
    "# final_smape(target_test, pred)"
   ]
  },
  {
   "cell_type": "code",
   "execution_count": 72,
   "metadata": {},
   "outputs": [
    {
     "data": {
      "text/plain": [
       "12.531788913477865"
      ]
     },
     "execution_count": 72,
     "metadata": {},
     "output_type": "execute_result"
    }
   ],
   "source": [
    "#Dummy para prueba cordura\n",
    "dummy_regr = DummyRegressor(strategy=\"mean\")\n",
    "dummy_regr.fit(features_train, target_train)\n",
    "pred = dummy_regr.predict(features_test)\n",
    "final_smape(target_test, pred)"
   ]
  },
  {
   "cell_type": "markdown",
   "metadata": {},
   "source": [
    "# Conclusión"
   ]
  },
  {
   "cell_type": "markdown",
   "metadata": {},
   "source": [
    "<font color=green>\n",
    "Después de analizar la información, comparar las cantidades de los metales en las distintas etapas de purificación, las distribuciones de las alimentaciones de las etapas y las concentraciones totales en las distintas etapas del proceso, con la ayuda de boxplot e histogramas, pudimos contar con datos confiables y dentro de rangos normales, eliminando valores atípicos.\n",
    "        \n",
    "    \n",
    "    \n",
    "Antes de comenzar a probar con 3 modelos predictivos, basándonos en la metrica sMAPE, tuvimos que hacer que nuestros conjuntos de entrenamiento y prueba sean coincidentes en columnas. Usamos nuestro conjunto completo, para llenar los datos faltantes (columnas) en el conjunto de prueba. Una vez hecho eso y hecho el merge, pudimos seguir con nuestros modelos, obteniendo mejores resultados con el modelo `RandomForestRegressor`, logrando obtener la mejor puntuación media de la evaluación, un 12.41.\n",
    "\n",
    "Posteriormente, hicimos el testeo con el mejor modelo, obteniendo un valor final de sMape de 12.59\n",
    "    \n",
    "Además, se hizo una prueba de cordura obteniendo un valor final sMape de 13.18\n",
    "\n",
    "Con este modelo se espera predecir los valores de oro que sean producidos por el proceso de purificación. Teniendo muestras de datos que se encuentren dentro del rango normal como los que seleccionamos.\n",
    "</font>"
   ]
  }
 ],
 "metadata": {
  "kernelspec": {
   "display_name": "Python 3 (ipykernel)",
   "language": "python",
   "name": "python3"
  },
  "language_info": {
   "codemirror_mode": {
    "name": "ipython",
    "version": 3
   },
   "file_extension": ".py",
   "mimetype": "text/x-python",
   "name": "python",
   "nbconvert_exporter": "python",
   "pygments_lexer": "ipython3",
   "version": "3.11.3"
  },
  "toc": {
   "base_numbering": 1,
   "nav_menu": {},
   "number_sections": true,
   "sideBar": true,
   "skip_h1_title": true,
   "title_cell": "Table of Contents",
   "title_sidebar": "Contents",
   "toc_cell": false,
   "toc_position": {},
   "toc_section_display": true,
   "toc_window_display": true
  }
 },
 "nbformat": 4,
 "nbformat_minor": 2
}
